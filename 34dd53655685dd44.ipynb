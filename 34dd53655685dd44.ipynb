{
 "cells": [
  {
   "cell_type": "code",
   "execution_count": 1,
   "id": "3044bba1",
   "metadata": {},
   "outputs": [],
   "source": [
    "#필요한 모듈 불러오기\n",
    "import pandas as pd\n",
    "import numpy as np\n",
    "import seaborn as sns\n",
    "import matplotlib.pyplot as plt\n",
    "import plotly.express as px\n",
    "import koreanize_matplotlib\n",
    "import warnings\n",
    "warnings.simplefilter(\"ignore\")"
   ]
  },
  {
   "cell_type": "code",
   "execution_count": 2,
   "id": "b88b85ce",
   "metadata": {
    "scrolled": false
   },
   "outputs": [
    {
     "data": {
      "text/html": [
       "<div>\n",
       "<style scoped>\n",
       "    .dataframe tbody tr th:only-of-type {\n",
       "        vertical-align: middle;\n",
       "    }\n",
       "\n",
       "    .dataframe tbody tr th {\n",
       "        vertical-align: top;\n",
       "    }\n",
       "\n",
       "    .dataframe thead th {\n",
       "        text-align: right;\n",
       "    }\n",
       "</style>\n",
       "<table border=\"1\" class=\"dataframe\">\n",
       "  <thead>\n",
       "    <tr style=\"text-align: right;\">\n",
       "      <th></th>\n",
       "      <th>장소별(1)</th>\n",
       "      <th>장소별(2)</th>\n",
       "      <th>범죄별(1)</th>\n",
       "      <th>범죄별(2)</th>\n",
       "      <th>2012</th>\n",
       "      <th>2013</th>\n",
       "      <th>2014</th>\n",
       "      <th>2015</th>\n",
       "      <th>2016</th>\n",
       "      <th>2017</th>\n",
       "      <th>2018</th>\n",
       "      <th>2019</th>\n",
       "      <th>2020</th>\n",
       "      <th>2021</th>\n",
       "    </tr>\n",
       "  </thead>\n",
       "  <tbody>\n",
       "    <tr>\n",
       "      <th>0</th>\n",
       "      <td>계</td>\n",
       "      <td>소계</td>\n",
       "      <td>계</td>\n",
       "      <td>소계</td>\n",
       "      <td>137725.0</td>\n",
       "      <td>132966.0</td>\n",
       "      <td>130674.0</td>\n",
       "      <td>126401.0</td>\n",
       "      <td>117839.0</td>\n",
       "      <td>107835.0</td>\n",
       "      <td>101948.0</td>\n",
       "      <td>103668.0</td>\n",
       "      <td>92679.0</td>\n",
       "      <td>80445.0</td>\n",
       "    </tr>\n",
       "    <tr>\n",
       "      <th>1</th>\n",
       "      <td>NaN</td>\n",
       "      <td>NaN</td>\n",
       "      <td>NaN</td>\n",
       "      <td>살인</td>\n",
       "      <td>179.0</td>\n",
       "      <td>152.0</td>\n",
       "      <td>158.0</td>\n",
       "      <td>163.0</td>\n",
       "      <td>148.0</td>\n",
       "      <td>142.0</td>\n",
       "      <td>143.0</td>\n",
       "      <td>136.0</td>\n",
       "      <td>141.0</td>\n",
       "      <td>124.0</td>\n",
       "    </tr>\n",
       "    <tr>\n",
       "      <th>2</th>\n",
       "      <td>NaN</td>\n",
       "      <td>NaN</td>\n",
       "      <td>NaN</td>\n",
       "      <td>강도</td>\n",
       "      <td>570.0</td>\n",
       "      <td>420.0</td>\n",
       "      <td>343.0</td>\n",
       "      <td>276.0</td>\n",
       "      <td>262.0</td>\n",
       "      <td>169.0</td>\n",
       "      <td>143.0</td>\n",
       "      <td>136.0</td>\n",
       "      <td>138.0</td>\n",
       "      <td>122.0</td>\n",
       "    </tr>\n",
       "    <tr>\n",
       "      <th>3</th>\n",
       "      <td>NaN</td>\n",
       "      <td>NaN</td>\n",
       "      <td>NaN</td>\n",
       "      <td>강간강제추행</td>\n",
       "      <td>4908.0</td>\n",
       "      <td>5387.0</td>\n",
       "      <td>5462.0</td>\n",
       "      <td>5449.0</td>\n",
       "      <td>6002.0</td>\n",
       "      <td>6963.0</td>\n",
       "      <td>6412.0</td>\n",
       "      <td>6469.0</td>\n",
       "      <td>5763.0</td>\n",
       "      <td>4911.0</td>\n",
       "    </tr>\n",
       "  </tbody>\n",
       "</table>\n",
       "</div>"
      ],
      "text/plain": [
       "  장소별(1) 장소별(2) 범죄별(1)  범죄별(2)      2012      2013      2014      2015  \\\n",
       "0      계     소계      계      소계  137725.0  132966.0  130674.0  126401.0   \n",
       "1    NaN    NaN    NaN      살인     179.0     152.0     158.0     163.0   \n",
       "2    NaN    NaN    NaN      강도     570.0     420.0     343.0     276.0   \n",
       "3    NaN    NaN    NaN  강간강제추행    4908.0    5387.0    5462.0    5449.0   \n",
       "\n",
       "       2016      2017      2018      2019     2020     2021  \n",
       "0  117839.0  107835.0  101948.0  103668.0  92679.0  80445.0  \n",
       "1     148.0     142.0     143.0     136.0    141.0    124.0  \n",
       "2     262.0     169.0     143.0     136.0    138.0    122.0  \n",
       "3    6002.0    6963.0    6412.0    6469.0   5763.0   4911.0  "
      ]
     },
     "execution_count": 2,
     "metadata": {},
     "output_type": "execute_result"
    }
   ],
   "source": [
    "#데이터 불러오기\n",
    "crime = pd.read_excel(\"5_20221018192142.xlsx\",engine = \"openpyxl\")\n",
    "crime.head(4)"
   ]
  },
  {
   "cell_type": "code",
   "execution_count": 3,
   "id": "3678fc6b",
   "metadata": {},
   "outputs": [
    {
     "data": {
      "text/plain": [
       "(84, 14)"
      ]
     },
     "execution_count": 3,
     "metadata": {},
     "output_type": "execute_result"
    }
   ],
   "source": [
    "# 데이터 크기 확인\n",
    "crime.shape"
   ]
  },
  {
   "cell_type": "code",
   "execution_count": 4,
   "id": "7bd19565",
   "metadata": {
    "scrolled": false
   },
   "outputs": [
    {
     "name": "stdout",
     "output_type": "stream",
     "text": [
      "<class 'pandas.core.frame.DataFrame'>\n",
      "RangeIndex: 84 entries, 0 to 83\n",
      "Data columns (total 14 columns):\n",
      " #   Column  Non-Null Count  Dtype  \n",
      "---  ------  --------------  -----  \n",
      " 0   장소별(1)  1 non-null      object \n",
      " 1   장소별(2)  14 non-null     object \n",
      " 2   범죄별(1)  14 non-null     object \n",
      " 3   범죄별(2)  84 non-null     object \n",
      " 4   2012    84 non-null     object \n",
      " 5   2013    84 non-null     object \n",
      " 6   2014    84 non-null     object \n",
      " 7   2015    84 non-null     object \n",
      " 8   2016    84 non-null     object \n",
      " 9   2017    84 non-null     object \n",
      " 10  2018    84 non-null     object \n",
      " 11  2019    84 non-null     object \n",
      " 12  2020    84 non-null     object \n",
      " 13  2021    84 non-null     float64\n",
      "dtypes: float64(1), object(13)\n",
      "memory usage: 9.3+ KB\n"
     ]
    }
   ],
   "source": [
    "#데이터 기본 정보 출력\n",
    "crime.info() "
   ]
  },
  {
   "cell_type": "code",
   "execution_count": 5,
   "id": "9280eb9f",
   "metadata": {},
   "outputs": [
    {
     "data": {
      "text/html": [
       "<div>\n",
       "<style scoped>\n",
       "    .dataframe tbody tr th:only-of-type {\n",
       "        vertical-align: middle;\n",
       "    }\n",
       "\n",
       "    .dataframe tbody tr th {\n",
       "        vertical-align: top;\n",
       "    }\n",
       "\n",
       "    .dataframe thead th {\n",
       "        text-align: right;\n",
       "    }\n",
       "</style>\n",
       "<table border=\"1\" class=\"dataframe\">\n",
       "  <thead>\n",
       "    <tr style=\"text-align: right;\">\n",
       "      <th></th>\n",
       "      <th>2021</th>\n",
       "    </tr>\n",
       "  </thead>\n",
       "  <tbody>\n",
       "    <tr>\n",
       "      <th>count</th>\n",
       "      <td>84.000000</td>\n",
       "    </tr>\n",
       "    <tr>\n",
       "      <th>mean</th>\n",
       "      <td>3830.714286</td>\n",
       "    </tr>\n",
       "    <tr>\n",
       "      <th>std</th>\n",
       "      <td>10929.923937</td>\n",
       "    </tr>\n",
       "    <tr>\n",
       "      <th>min</th>\n",
       "      <td>0.000000</td>\n",
       "    </tr>\n",
       "    <tr>\n",
       "      <th>25%</th>\n",
       "      <td>24.750000</td>\n",
       "    </tr>\n",
       "    <tr>\n",
       "      <th>50%</th>\n",
       "      <td>385.000000</td>\n",
       "    </tr>\n",
       "    <tr>\n",
       "      <th>75%</th>\n",
       "      <td>1733.000000</td>\n",
       "    </tr>\n",
       "    <tr>\n",
       "      <th>max</th>\n",
       "      <td>80445.000000</td>\n",
       "    </tr>\n",
       "  </tbody>\n",
       "</table>\n",
       "</div>"
      ],
      "text/plain": [
       "               2021\n",
       "count     84.000000\n",
       "mean    3830.714286\n",
       "std    10929.923937\n",
       "min        0.000000\n",
       "25%       24.750000\n",
       "50%      385.000000\n",
       "75%     1733.000000\n",
       "max    80445.000000"
      ]
     },
     "execution_count": 5,
     "metadata": {},
     "output_type": "execute_result"
    }
   ],
   "source": [
    "#데이터 기술 통계 정보 요약\n",
    "crime.describe()"
   ]
  },
  {
   "cell_type": "code",
   "execution_count": 6,
   "id": "2d96775e",
   "metadata": {
    "scrolled": true
   },
   "outputs": [
    {
     "data": {
      "text/plain": [
       "장소별(1)  장소별(2)  범죄별(1)  범죄별(2)  2012      2013      2014      2015      2016      2017      2018      2019      2020     2021   \n",
       "계       소계      계       소계      137725.0  132966.0  130674.0  126401.0  117839.0  107835.0  101948.0  103668.0  92679.0  80445.0    1\n",
       "dtype: int64"
      ]
     },
     "execution_count": 6,
     "metadata": {},
     "output_type": "execute_result"
    }
   ],
   "source": [
    "# 고유값 개수\n",
    "crime.value_counts()"
   ]
  },
  {
   "cell_type": "code",
   "execution_count": 7,
   "id": "415c0806",
   "metadata": {},
   "outputs": [
    {
     "data": {
      "text/plain": [
       "223"
      ]
     },
     "execution_count": 7,
     "metadata": {},
     "output_type": "execute_result"
    }
   ],
   "source": [
    "#누락데이터 찾기\n",
    "crime.isnull().sum().sum()"
   ]
  },
  {
   "cell_type": "code",
   "execution_count": 8,
   "id": "be9df2b3",
   "metadata": {},
   "outputs": [
    {
     "data": {
      "text/plain": [
       "Index(['장소별(1)', '장소별(2)', '범죄별(1)', '범죄별(2)', '2012', '2013', '2014', '2015',\n",
       "       '2016', '2017', '2018', '2019', '2020', '2021'],\n",
       "      dtype='object')"
      ]
     },
     "execution_count": 8,
     "metadata": {},
     "output_type": "execute_result"
    }
   ],
   "source": [
    "crime.columns"
   ]
  },
  {
   "cell_type": "code",
   "execution_count": 9,
   "id": "7dc9b91c",
   "metadata": {},
   "outputs": [],
   "source": [
    "# 행 삭제 하기\n",
    "crime = crime.drop([\"장소별(1)\",\"범죄별(1)\",\"범죄별(2)\",\"2012\",\"2013\",\"2021\"],axis=1)"
   ]
  },
  {
   "cell_type": "code",
   "execution_count": 10,
   "id": "4396fb7e",
   "metadata": {},
   "outputs": [
    {
     "data": {
      "text/html": [
       "<div>\n",
       "<style scoped>\n",
       "    .dataframe tbody tr th:only-of-type {\n",
       "        vertical-align: middle;\n",
       "    }\n",
       "\n",
       "    .dataframe tbody tr th {\n",
       "        vertical-align: top;\n",
       "    }\n",
       "\n",
       "    .dataframe thead th {\n",
       "        text-align: right;\n",
       "    }\n",
       "</style>\n",
       "<table border=\"1\" class=\"dataframe\">\n",
       "  <thead>\n",
       "    <tr style=\"text-align: right;\">\n",
       "      <th></th>\n",
       "      <th>장소별(2)</th>\n",
       "      <th>2014</th>\n",
       "      <th>2015</th>\n",
       "      <th>2016</th>\n",
       "      <th>2017</th>\n",
       "      <th>2018</th>\n",
       "      <th>2019</th>\n",
       "      <th>2020</th>\n",
       "    </tr>\n",
       "  </thead>\n",
       "  <tbody>\n",
       "    <tr>\n",
       "      <th>0</th>\n",
       "      <td>소계</td>\n",
       "      <td>130674.0</td>\n",
       "      <td>126401.0</td>\n",
       "      <td>117839.0</td>\n",
       "      <td>107835.0</td>\n",
       "      <td>101948.0</td>\n",
       "      <td>103668.0</td>\n",
       "      <td>92679.0</td>\n",
       "    </tr>\n",
       "    <tr>\n",
       "      <th>1</th>\n",
       "      <td>NaN</td>\n",
       "      <td>158.0</td>\n",
       "      <td>163.0</td>\n",
       "      <td>148.0</td>\n",
       "      <td>142.0</td>\n",
       "      <td>143.0</td>\n",
       "      <td>136.0</td>\n",
       "      <td>141.0</td>\n",
       "    </tr>\n",
       "    <tr>\n",
       "      <th>2</th>\n",
       "      <td>NaN</td>\n",
       "      <td>343.0</td>\n",
       "      <td>276.0</td>\n",
       "      <td>262.0</td>\n",
       "      <td>169.0</td>\n",
       "      <td>143.0</td>\n",
       "      <td>136.0</td>\n",
       "      <td>138.0</td>\n",
       "    </tr>\n",
       "    <tr>\n",
       "      <th>3</th>\n",
       "      <td>NaN</td>\n",
       "      <td>5462.0</td>\n",
       "      <td>5449.0</td>\n",
       "      <td>6002.0</td>\n",
       "      <td>6963.0</td>\n",
       "      <td>6412.0</td>\n",
       "      <td>6469.0</td>\n",
       "      <td>5763.0</td>\n",
       "    </tr>\n",
       "  </tbody>\n",
       "</table>\n",
       "</div>"
      ],
      "text/plain": [
       "  장소별(2)      2014      2015      2016      2017      2018      2019     2020\n",
       "0     소계  130674.0  126401.0  117839.0  107835.0  101948.0  103668.0  92679.0\n",
       "1    NaN     158.0     163.0     148.0     142.0     143.0     136.0    141.0\n",
       "2    NaN     343.0     276.0     262.0     169.0     143.0     136.0    138.0\n",
       "3    NaN    5462.0    5449.0    6002.0    6963.0    6412.0    6469.0   5763.0"
      ]
     },
     "execution_count": 10,
     "metadata": {},
     "output_type": "execute_result"
    }
   ],
   "source": [
    "#일부 데이터 보기\n",
    "crime.head(4)"
   ]
  },
  {
   "cell_type": "code",
   "execution_count": 11,
   "id": "3000a124",
   "metadata": {
    "scrolled": false
   },
   "outputs": [
    {
     "data": {
      "text/html": [
       "<div>\n",
       "<style scoped>\n",
       "    .dataframe tbody tr th:only-of-type {\n",
       "        vertical-align: middle;\n",
       "    }\n",
       "\n",
       "    .dataframe tbody tr th {\n",
       "        vertical-align: top;\n",
       "    }\n",
       "\n",
       "    .dataframe thead th {\n",
       "        text-align: right;\n",
       "    }\n",
       "</style>\n",
       "<table border=\"1\" class=\"dataframe\">\n",
       "  <thead>\n",
       "    <tr style=\"text-align: right;\">\n",
       "      <th></th>\n",
       "      <th>장소별(2)</th>\n",
       "      <th>2014</th>\n",
       "      <th>2015</th>\n",
       "      <th>2016</th>\n",
       "      <th>2017</th>\n",
       "      <th>2018</th>\n",
       "      <th>2019</th>\n",
       "      <th>2020</th>\n",
       "    </tr>\n",
       "  </thead>\n",
       "  <tbody>\n",
       "    <tr>\n",
       "      <th>6</th>\n",
       "      <td>아파트 연립다세대</td>\n",
       "      <td>5671.0</td>\n",
       "      <td>5039.0</td>\n",
       "      <td>4660.0</td>\n",
       "      <td>4523.0</td>\n",
       "      <td>7682.0</td>\n",
       "      <td>8999.0</td>\n",
       "      <td>9597.0</td>\n",
       "    </tr>\n",
       "    <tr>\n",
       "      <th>7</th>\n",
       "      <td>NaN</td>\n",
       "      <td>22.0</td>\n",
       "      <td>20.0</td>\n",
       "      <td>12.0</td>\n",
       "      <td>21.0</td>\n",
       "      <td>29.0</td>\n",
       "      <td>25.0</td>\n",
       "      <td>32.0</td>\n",
       "    </tr>\n",
       "    <tr>\n",
       "      <th>8</th>\n",
       "      <td>NaN</td>\n",
       "      <td>37.0</td>\n",
       "      <td>20.0</td>\n",
       "      <td>20.0</td>\n",
       "      <td>20.0</td>\n",
       "      <td>10.0</td>\n",
       "      <td>7.0</td>\n",
       "      <td>11.0</td>\n",
       "    </tr>\n",
       "    <tr>\n",
       "      <th>9</th>\n",
       "      <td>NaN</td>\n",
       "      <td>296.0</td>\n",
       "      <td>283.0</td>\n",
       "      <td>284.0</td>\n",
       "      <td>319.0</td>\n",
       "      <td>441.0</td>\n",
       "      <td>533.0</td>\n",
       "      <td>556.0</td>\n",
       "    </tr>\n",
       "    <tr>\n",
       "      <th>10</th>\n",
       "      <td>NaN</td>\n",
       "      <td>2765.0</td>\n",
       "      <td>1866.0</td>\n",
       "      <td>1504.0</td>\n",
       "      <td>1209.0</td>\n",
       "      <td>1907.0</td>\n",
       "      <td>2455.0</td>\n",
       "      <td>2867.0</td>\n",
       "    </tr>\n",
       "  </tbody>\n",
       "</table>\n",
       "</div>"
      ],
      "text/plain": [
       "       장소별(2)    2014    2015    2016    2017    2018    2019    2020\n",
       "6   아파트 연립다세대  5671.0  5039.0  4660.0  4523.0  7682.0  8999.0  9597.0\n",
       "7         NaN    22.0    20.0    12.0    21.0    29.0    25.0    32.0\n",
       "8         NaN    37.0    20.0    20.0    20.0    10.0     7.0    11.0\n",
       "9         NaN   296.0   283.0   284.0   319.0   441.0   533.0   556.0\n",
       "10        NaN  2765.0  1866.0  1504.0  1209.0  1907.0  2455.0  2867.0"
      ]
     },
     "execution_count": 11,
     "metadata": {},
     "output_type": "execute_result"
    }
   ],
   "source": [
    "# 계 행 삭제하기\n",
    "crime = crime.drop([0,1,2,3,4,5],axis =0)\n",
    "crime.head(5)"
   ]
  },
  {
   "cell_type": "code",
   "execution_count": 12,
   "id": "2f9c36f6",
   "metadata": {},
   "outputs": [],
   "source": [
    "#결측지 값 제거\n",
    "crime=crime.dropna()"
   ]
  },
  {
   "cell_type": "code",
   "execution_count": 13,
   "id": "b06b8626",
   "metadata": {
    "scrolled": false
   },
   "outputs": [
    {
     "data": {
      "text/plain": [
       "아파트 연립다세대    1\n",
       "단독주택         1\n",
       "노상           1\n",
       "상점           1\n",
       "숙박업소목욕탕      1\n",
       "유흥접객업소       1\n",
       "사무실          1\n",
       "역대합실         1\n",
       "교통수단         1\n",
       "유원지          1\n",
       "학교           1\n",
       "금융기관         1\n",
       "기타           1\n",
       "Name: 장소별(2), dtype: int64"
      ]
     },
     "execution_count": 13,
     "metadata": {},
     "output_type": "execute_result"
    }
   ],
   "source": [
    "crime[\"장소별(2)\"].value_counts()"
   ]
  },
  {
   "cell_type": "code",
   "execution_count": 14,
   "id": "98f989df",
   "metadata": {
    "scrolled": true
   },
   "outputs": [
    {
     "data": {
      "text/html": [
       "<div>\n",
       "<style scoped>\n",
       "    .dataframe tbody tr th:only-of-type {\n",
       "        vertical-align: middle;\n",
       "    }\n",
       "\n",
       "    .dataframe tbody tr th {\n",
       "        vertical-align: top;\n",
       "    }\n",
       "\n",
       "    .dataframe thead th {\n",
       "        text-align: right;\n",
       "    }\n",
       "</style>\n",
       "<table border=\"1\" class=\"dataframe\">\n",
       "  <thead>\n",
       "    <tr style=\"text-align: right;\">\n",
       "      <th></th>\n",
       "      <th>장소</th>\n",
       "      <th>2014</th>\n",
       "      <th>2015</th>\n",
       "      <th>2016</th>\n",
       "      <th>2017</th>\n",
       "      <th>2018</th>\n",
       "      <th>2019</th>\n",
       "      <th>2020</th>\n",
       "    </tr>\n",
       "  </thead>\n",
       "  <tbody>\n",
       "    <tr>\n",
       "      <th>6</th>\n",
       "      <td>아파트 연립다세대</td>\n",
       "      <td>5671.0</td>\n",
       "      <td>5039.0</td>\n",
       "      <td>4660.0</td>\n",
       "      <td>4523.0</td>\n",
       "      <td>7682.0</td>\n",
       "      <td>8999.0</td>\n",
       "      <td>9597.0</td>\n",
       "    </tr>\n",
       "    <tr>\n",
       "      <th>12</th>\n",
       "      <td>단독주택</td>\n",
       "      <td>7325.0</td>\n",
       "      <td>6408.0</td>\n",
       "      <td>6266.0</td>\n",
       "      <td>5092.0</td>\n",
       "      <td>8150.0</td>\n",
       "      <td>8757.0</td>\n",
       "      <td>8200.0</td>\n",
       "    </tr>\n",
       "    <tr>\n",
       "      <th>18</th>\n",
       "      <td>노상</td>\n",
       "      <td>39067.0</td>\n",
       "      <td>37548.0</td>\n",
       "      <td>35003.0</td>\n",
       "      <td>32063.0</td>\n",
       "      <td>32372.0</td>\n",
       "      <td>32295.0</td>\n",
       "      <td>29395.0</td>\n",
       "    </tr>\n",
       "    <tr>\n",
       "      <th>24</th>\n",
       "      <td>상점</td>\n",
       "      <td>5068.0</td>\n",
       "      <td>4816.0</td>\n",
       "      <td>5385.0</td>\n",
       "      <td>5047.0</td>\n",
       "      <td>8635.0</td>\n",
       "      <td>10092.0</td>\n",
       "      <td>9626.0</td>\n",
       "    </tr>\n",
       "  </tbody>\n",
       "</table>\n",
       "</div>"
      ],
      "text/plain": [
       "           장소     2014     2015     2016     2017     2018     2019     2020\n",
       "6   아파트 연립다세대   5671.0   5039.0   4660.0   4523.0   7682.0   8999.0   9597.0\n",
       "12       단독주택   7325.0   6408.0   6266.0   5092.0   8150.0   8757.0   8200.0\n",
       "18         노상  39067.0  37548.0  35003.0  32063.0  32372.0  32295.0  29395.0\n",
       "24         상점   5068.0   4816.0   5385.0   5047.0   8635.0  10092.0   9626.0"
      ]
     },
     "execution_count": 14,
     "metadata": {},
     "output_type": "execute_result"
    }
   ],
   "source": [
    "#이름 변경해주기\n",
    "crime = crime.rename(columns = {\"장소별(2)\":\"장소\"})\n",
    "crime.head(4)"
   ]
  },
  {
   "cell_type": "code",
   "execution_count": 15,
   "id": "7a64a216",
   "metadata": {},
   "outputs": [
    {
     "data": {
      "text/plain": [
       "장소      object\n",
       "2014    object\n",
       "2015    object\n",
       "2016    object\n",
       "2017    object\n",
       "2018    object\n",
       "2019    object\n",
       "2020    object\n",
       "dtype: object"
      ]
     },
     "execution_count": 15,
     "metadata": {},
     "output_type": "execute_result"
    }
   ],
   "source": [
    "crime.dtypes"
   ]
  },
  {
   "cell_type": "code",
   "execution_count": 18,
   "id": "121dde7c",
   "metadata": {
    "scrolled": true
   },
   "outputs": [
    {
     "data": {
      "text/html": [
       "<div>\n",
       "<style scoped>\n",
       "    .dataframe tbody tr th:only-of-type {\n",
       "        vertical-align: middle;\n",
       "    }\n",
       "\n",
       "    .dataframe tbody tr th {\n",
       "        vertical-align: top;\n",
       "    }\n",
       "\n",
       "    .dataframe thead th {\n",
       "        text-align: right;\n",
       "    }\n",
       "</style>\n",
       "<table border=\"1\" class=\"dataframe\">\n",
       "  <thead>\n",
       "    <tr style=\"text-align: right;\">\n",
       "      <th></th>\n",
       "      <th>장소</th>\n",
       "      <th>연도</th>\n",
       "      <th>발생건수</th>\n",
       "    </tr>\n",
       "  </thead>\n",
       "  <tbody>\n",
       "    <tr>\n",
       "      <th>0</th>\n",
       "      <td>아파트 연립다세대</td>\n",
       "      <td>2014</td>\n",
       "      <td>5671</td>\n",
       "    </tr>\n",
       "    <tr>\n",
       "      <th>1</th>\n",
       "      <td>단독주택</td>\n",
       "      <td>2014</td>\n",
       "      <td>7325</td>\n",
       "    </tr>\n",
       "    <tr>\n",
       "      <th>2</th>\n",
       "      <td>노상</td>\n",
       "      <td>2014</td>\n",
       "      <td>39067</td>\n",
       "    </tr>\n",
       "    <tr>\n",
       "      <th>3</th>\n",
       "      <td>상점</td>\n",
       "      <td>2014</td>\n",
       "      <td>5068</td>\n",
       "    </tr>\n",
       "  </tbody>\n",
       "</table>\n",
       "</div>"
      ],
      "text/plain": [
       "          장소    연도   발생건수\n",
       "0  아파트 연립다세대  2014   5671\n",
       "1       단독주택  2014   7325\n",
       "2         노상  2014  39067\n",
       "3         상점  2014   5068"
      ]
     },
     "execution_count": 18,
     "metadata": {},
     "output_type": "execute_result"
    }
   ],
   "source": [
    "#행 데이터를 열 데이터로 변경하기\n",
    "crime = crime.melt(id_vars = crime.columns[:1],var_name = \"연도\", value_name = \"발생건수\")\n",
    "crime.head(4)"
   ]
  },
  {
   "cell_type": "code",
   "execution_count": 29,
   "id": "125f9155",
   "metadata": {},
   "outputs": [
    {
     "name": "stdout",
     "output_type": "stream",
     "text": [
      "<class 'pandas.core.frame.DataFrame'>\n",
      "RangeIndex: 91 entries, 0 to 90\n",
      "Data columns (total 3 columns):\n",
      " #   Column  Non-Null Count  Dtype \n",
      "---  ------  --------------  ----- \n",
      " 0   장소      91 non-null     object\n",
      " 1   연도      91 non-null     int64 \n",
      " 2   발생건수    91 non-null     int64 \n",
      "dtypes: int64(2), object(1)\n",
      "memory usage: 2.3+ KB\n"
     ]
    }
   ],
   "source": [
    "#데이터 타입 바꾸기\n",
    "crime[\"연도\"] = crime[\"연도\"].astype(\"int\")\n",
    "crime[\"발생건수\"] = crime[\"발생건수\"].astype(\"int\")\n",
    "crime.info()"
   ]
  },
  {
   "cell_type": "code",
   "execution_count": 26,
   "id": "d65f9f15",
   "metadata": {},
   "outputs": [
    {
     "data": {
      "application/vnd.plotly.v1+json": {
       "config": {
        "plotlyServerURL": "https://plot.ly"
       },
       "data": [
        {
         "alignmentgroup": "True",
         "bingroup": "y",
         "histfunc": "sum",
         "hovertemplate": "sum of 발생건수=%{x}<br>장소=%{y}<extra></extra>",
         "legendgroup": "",
         "marker": {
          "color": "#636efa",
          "pattern": {
           "shape": ""
          }
         },
         "name": "",
         "offsetgroup": "",
         "orientation": "h",
         "showlegend": false,
         "type": "histogram",
         "x": [
          5671,
          7325,
          39067,
          5068,
          2320,
          5993,
          2940,
          874,
          2079,
          1057,
          679,
          1530,
          56071,
          5039,
          6408,
          37548,
          4816,
          1638,
          5004,
          2458,
          843,
          2173,
          951,
          640,
          1322,
          57561,
          4660,
          6266,
          35003,
          5385,
          1533,
          5098,
          2052,
          808,
          2197,
          854,
          636,
          1127,
          52220,
          4523,
          5092,
          32063,
          5047,
          1437,
          5077,
          1772,
          908,
          2359,
          754,
          518,
          1024,
          47261,
          7682,
          8150,
          32372,
          8635,
          2410,
          9356,
          2354,
          1455,
          3110,
          1152,
          634,
          1375,
          23263,
          8999,
          8757,
          32295,
          10092,
          2397,
          9725,
          2203,
          1524,
          3358,
          1248,
          685,
          1199,
          21186,
          9597,
          8200,
          29395,
          9626,
          1756,
          7199,
          2030,
          1230,
          2791,
          941,
          319,
          949,
          18646
         ],
         "xaxis": "x",
         "y": [
          "아파트 연립다세대",
          "단독주택",
          "노상",
          "상점",
          "숙박업소목욕탕",
          "유흥접객업소",
          "사무실",
          "역대합실",
          "교통수단",
          "유원지",
          "학교",
          "금융기관",
          "기타",
          "아파트 연립다세대",
          "단독주택",
          "노상",
          "상점",
          "숙박업소목욕탕",
          "유흥접객업소",
          "사무실",
          "역대합실",
          "교통수단",
          "유원지",
          "학교",
          "금융기관",
          "기타",
          "아파트 연립다세대",
          "단독주택",
          "노상",
          "상점",
          "숙박업소목욕탕",
          "유흥접객업소",
          "사무실",
          "역대합실",
          "교통수단",
          "유원지",
          "학교",
          "금융기관",
          "기타",
          "아파트 연립다세대",
          "단독주택",
          "노상",
          "상점",
          "숙박업소목욕탕",
          "유흥접객업소",
          "사무실",
          "역대합실",
          "교통수단",
          "유원지",
          "학교",
          "금융기관",
          "기타",
          "아파트 연립다세대",
          "단독주택",
          "노상",
          "상점",
          "숙박업소목욕탕",
          "유흥접객업소",
          "사무실",
          "역대합실",
          "교통수단",
          "유원지",
          "학교",
          "금융기관",
          "기타",
          "아파트 연립다세대",
          "단독주택",
          "노상",
          "상점",
          "숙박업소목욕탕",
          "유흥접객업소",
          "사무실",
          "역대합실",
          "교통수단",
          "유원지",
          "학교",
          "금융기관",
          "기타",
          "아파트 연립다세대",
          "단독주택",
          "노상",
          "상점",
          "숙박업소목욕탕",
          "유흥접객업소",
          "사무실",
          "역대합실",
          "교통수단",
          "유원지",
          "학교",
          "금융기관",
          "기타"
         ],
         "yaxis": "y"
        }
       ],
       "layout": {
        "barmode": "relative",
        "legend": {
         "tracegroupgap": 0
        },
        "template": {
         "data": {
          "bar": [
           {
            "error_x": {
             "color": "#2a3f5f"
            },
            "error_y": {
             "color": "#2a3f5f"
            },
            "marker": {
             "line": {
              "color": "#E5ECF6",
              "width": 0.5
             },
             "pattern": {
              "fillmode": "overlay",
              "size": 10,
              "solidity": 0.2
             }
            },
            "type": "bar"
           }
          ],
          "barpolar": [
           {
            "marker": {
             "line": {
              "color": "#E5ECF6",
              "width": 0.5
             },
             "pattern": {
              "fillmode": "overlay",
              "size": 10,
              "solidity": 0.2
             }
            },
            "type": "barpolar"
           }
          ],
          "carpet": [
           {
            "aaxis": {
             "endlinecolor": "#2a3f5f",
             "gridcolor": "white",
             "linecolor": "white",
             "minorgridcolor": "white",
             "startlinecolor": "#2a3f5f"
            },
            "baxis": {
             "endlinecolor": "#2a3f5f",
             "gridcolor": "white",
             "linecolor": "white",
             "minorgridcolor": "white",
             "startlinecolor": "#2a3f5f"
            },
            "type": "carpet"
           }
          ],
          "choropleth": [
           {
            "colorbar": {
             "outlinewidth": 0,
             "ticks": ""
            },
            "type": "choropleth"
           }
          ],
          "contour": [
           {
            "colorbar": {
             "outlinewidth": 0,
             "ticks": ""
            },
            "colorscale": [
             [
              0,
              "#0d0887"
             ],
             [
              0.1111111111111111,
              "#46039f"
             ],
             [
              0.2222222222222222,
              "#7201a8"
             ],
             [
              0.3333333333333333,
              "#9c179e"
             ],
             [
              0.4444444444444444,
              "#bd3786"
             ],
             [
              0.5555555555555556,
              "#d8576b"
             ],
             [
              0.6666666666666666,
              "#ed7953"
             ],
             [
              0.7777777777777778,
              "#fb9f3a"
             ],
             [
              0.8888888888888888,
              "#fdca26"
             ],
             [
              1,
              "#f0f921"
             ]
            ],
            "type": "contour"
           }
          ],
          "contourcarpet": [
           {
            "colorbar": {
             "outlinewidth": 0,
             "ticks": ""
            },
            "type": "contourcarpet"
           }
          ],
          "heatmap": [
           {
            "colorbar": {
             "outlinewidth": 0,
             "ticks": ""
            },
            "colorscale": [
             [
              0,
              "#0d0887"
             ],
             [
              0.1111111111111111,
              "#46039f"
             ],
             [
              0.2222222222222222,
              "#7201a8"
             ],
             [
              0.3333333333333333,
              "#9c179e"
             ],
             [
              0.4444444444444444,
              "#bd3786"
             ],
             [
              0.5555555555555556,
              "#d8576b"
             ],
             [
              0.6666666666666666,
              "#ed7953"
             ],
             [
              0.7777777777777778,
              "#fb9f3a"
             ],
             [
              0.8888888888888888,
              "#fdca26"
             ],
             [
              1,
              "#f0f921"
             ]
            ],
            "type": "heatmap"
           }
          ],
          "heatmapgl": [
           {
            "colorbar": {
             "outlinewidth": 0,
             "ticks": ""
            },
            "colorscale": [
             [
              0,
              "#0d0887"
             ],
             [
              0.1111111111111111,
              "#46039f"
             ],
             [
              0.2222222222222222,
              "#7201a8"
             ],
             [
              0.3333333333333333,
              "#9c179e"
             ],
             [
              0.4444444444444444,
              "#bd3786"
             ],
             [
              0.5555555555555556,
              "#d8576b"
             ],
             [
              0.6666666666666666,
              "#ed7953"
             ],
             [
              0.7777777777777778,
              "#fb9f3a"
             ],
             [
              0.8888888888888888,
              "#fdca26"
             ],
             [
              1,
              "#f0f921"
             ]
            ],
            "type": "heatmapgl"
           }
          ],
          "histogram": [
           {
            "marker": {
             "pattern": {
              "fillmode": "overlay",
              "size": 10,
              "solidity": 0.2
             }
            },
            "type": "histogram"
           }
          ],
          "histogram2d": [
           {
            "colorbar": {
             "outlinewidth": 0,
             "ticks": ""
            },
            "colorscale": [
             [
              0,
              "#0d0887"
             ],
             [
              0.1111111111111111,
              "#46039f"
             ],
             [
              0.2222222222222222,
              "#7201a8"
             ],
             [
              0.3333333333333333,
              "#9c179e"
             ],
             [
              0.4444444444444444,
              "#bd3786"
             ],
             [
              0.5555555555555556,
              "#d8576b"
             ],
             [
              0.6666666666666666,
              "#ed7953"
             ],
             [
              0.7777777777777778,
              "#fb9f3a"
             ],
             [
              0.8888888888888888,
              "#fdca26"
             ],
             [
              1,
              "#f0f921"
             ]
            ],
            "type": "histogram2d"
           }
          ],
          "histogram2dcontour": [
           {
            "colorbar": {
             "outlinewidth": 0,
             "ticks": ""
            },
            "colorscale": [
             [
              0,
              "#0d0887"
             ],
             [
              0.1111111111111111,
              "#46039f"
             ],
             [
              0.2222222222222222,
              "#7201a8"
             ],
             [
              0.3333333333333333,
              "#9c179e"
             ],
             [
              0.4444444444444444,
              "#bd3786"
             ],
             [
              0.5555555555555556,
              "#d8576b"
             ],
             [
              0.6666666666666666,
              "#ed7953"
             ],
             [
              0.7777777777777778,
              "#fb9f3a"
             ],
             [
              0.8888888888888888,
              "#fdca26"
             ],
             [
              1,
              "#f0f921"
             ]
            ],
            "type": "histogram2dcontour"
           }
          ],
          "mesh3d": [
           {
            "colorbar": {
             "outlinewidth": 0,
             "ticks": ""
            },
            "type": "mesh3d"
           }
          ],
          "parcoords": [
           {
            "line": {
             "colorbar": {
              "outlinewidth": 0,
              "ticks": ""
             }
            },
            "type": "parcoords"
           }
          ],
          "pie": [
           {
            "automargin": true,
            "type": "pie"
           }
          ],
          "scatter": [
           {
            "fillpattern": {
             "fillmode": "overlay",
             "size": 10,
             "solidity": 0.2
            },
            "type": "scatter"
           }
          ],
          "scatter3d": [
           {
            "line": {
             "colorbar": {
              "outlinewidth": 0,
              "ticks": ""
             }
            },
            "marker": {
             "colorbar": {
              "outlinewidth": 0,
              "ticks": ""
             }
            },
            "type": "scatter3d"
           }
          ],
          "scattercarpet": [
           {
            "marker": {
             "colorbar": {
              "outlinewidth": 0,
              "ticks": ""
             }
            },
            "type": "scattercarpet"
           }
          ],
          "scattergeo": [
           {
            "marker": {
             "colorbar": {
              "outlinewidth": 0,
              "ticks": ""
             }
            },
            "type": "scattergeo"
           }
          ],
          "scattergl": [
           {
            "marker": {
             "colorbar": {
              "outlinewidth": 0,
              "ticks": ""
             }
            },
            "type": "scattergl"
           }
          ],
          "scattermapbox": [
           {
            "marker": {
             "colorbar": {
              "outlinewidth": 0,
              "ticks": ""
             }
            },
            "type": "scattermapbox"
           }
          ],
          "scatterpolar": [
           {
            "marker": {
             "colorbar": {
              "outlinewidth": 0,
              "ticks": ""
             }
            },
            "type": "scatterpolar"
           }
          ],
          "scatterpolargl": [
           {
            "marker": {
             "colorbar": {
              "outlinewidth": 0,
              "ticks": ""
             }
            },
            "type": "scatterpolargl"
           }
          ],
          "scatterternary": [
           {
            "marker": {
             "colorbar": {
              "outlinewidth": 0,
              "ticks": ""
             }
            },
            "type": "scatterternary"
           }
          ],
          "surface": [
           {
            "colorbar": {
             "outlinewidth": 0,
             "ticks": ""
            },
            "colorscale": [
             [
              0,
              "#0d0887"
             ],
             [
              0.1111111111111111,
              "#46039f"
             ],
             [
              0.2222222222222222,
              "#7201a8"
             ],
             [
              0.3333333333333333,
              "#9c179e"
             ],
             [
              0.4444444444444444,
              "#bd3786"
             ],
             [
              0.5555555555555556,
              "#d8576b"
             ],
             [
              0.6666666666666666,
              "#ed7953"
             ],
             [
              0.7777777777777778,
              "#fb9f3a"
             ],
             [
              0.8888888888888888,
              "#fdca26"
             ],
             [
              1,
              "#f0f921"
             ]
            ],
            "type": "surface"
           }
          ],
          "table": [
           {
            "cells": {
             "fill": {
              "color": "#EBF0F8"
             },
             "line": {
              "color": "white"
             }
            },
            "header": {
             "fill": {
              "color": "#C8D4E3"
             },
             "line": {
              "color": "white"
             }
            },
            "type": "table"
           }
          ]
         },
         "layout": {
          "annotationdefaults": {
           "arrowcolor": "#2a3f5f",
           "arrowhead": 0,
           "arrowwidth": 1
          },
          "autotypenumbers": "strict",
          "coloraxis": {
           "colorbar": {
            "outlinewidth": 0,
            "ticks": ""
           }
          },
          "colorscale": {
           "diverging": [
            [
             0,
             "#8e0152"
            ],
            [
             0.1,
             "#c51b7d"
            ],
            [
             0.2,
             "#de77ae"
            ],
            [
             0.3,
             "#f1b6da"
            ],
            [
             0.4,
             "#fde0ef"
            ],
            [
             0.5,
             "#f7f7f7"
            ],
            [
             0.6,
             "#e6f5d0"
            ],
            [
             0.7,
             "#b8e186"
            ],
            [
             0.8,
             "#7fbc41"
            ],
            [
             0.9,
             "#4d9221"
            ],
            [
             1,
             "#276419"
            ]
           ],
           "sequential": [
            [
             0,
             "#0d0887"
            ],
            [
             0.1111111111111111,
             "#46039f"
            ],
            [
             0.2222222222222222,
             "#7201a8"
            ],
            [
             0.3333333333333333,
             "#9c179e"
            ],
            [
             0.4444444444444444,
             "#bd3786"
            ],
            [
             0.5555555555555556,
             "#d8576b"
            ],
            [
             0.6666666666666666,
             "#ed7953"
            ],
            [
             0.7777777777777778,
             "#fb9f3a"
            ],
            [
             0.8888888888888888,
             "#fdca26"
            ],
            [
             1,
             "#f0f921"
            ]
           ],
           "sequentialminus": [
            [
             0,
             "#0d0887"
            ],
            [
             0.1111111111111111,
             "#46039f"
            ],
            [
             0.2222222222222222,
             "#7201a8"
            ],
            [
             0.3333333333333333,
             "#9c179e"
            ],
            [
             0.4444444444444444,
             "#bd3786"
            ],
            [
             0.5555555555555556,
             "#d8576b"
            ],
            [
             0.6666666666666666,
             "#ed7953"
            ],
            [
             0.7777777777777778,
             "#fb9f3a"
            ],
            [
             0.8888888888888888,
             "#fdca26"
            ],
            [
             1,
             "#f0f921"
            ]
           ]
          },
          "colorway": [
           "#636efa",
           "#EF553B",
           "#00cc96",
           "#ab63fa",
           "#FFA15A",
           "#19d3f3",
           "#FF6692",
           "#B6E880",
           "#FF97FF",
           "#FECB52"
          ],
          "font": {
           "color": "#2a3f5f"
          },
          "geo": {
           "bgcolor": "white",
           "lakecolor": "white",
           "landcolor": "#E5ECF6",
           "showlakes": true,
           "showland": true,
           "subunitcolor": "white"
          },
          "hoverlabel": {
           "align": "left"
          },
          "hovermode": "closest",
          "mapbox": {
           "style": "light"
          },
          "paper_bgcolor": "white",
          "plot_bgcolor": "#E5ECF6",
          "polar": {
           "angularaxis": {
            "gridcolor": "white",
            "linecolor": "white",
            "ticks": ""
           },
           "bgcolor": "#E5ECF6",
           "radialaxis": {
            "gridcolor": "white",
            "linecolor": "white",
            "ticks": ""
           }
          },
          "scene": {
           "xaxis": {
            "backgroundcolor": "#E5ECF6",
            "gridcolor": "white",
            "gridwidth": 2,
            "linecolor": "white",
            "showbackground": true,
            "ticks": "",
            "zerolinecolor": "white"
           },
           "yaxis": {
            "backgroundcolor": "#E5ECF6",
            "gridcolor": "white",
            "gridwidth": 2,
            "linecolor": "white",
            "showbackground": true,
            "ticks": "",
            "zerolinecolor": "white"
           },
           "zaxis": {
            "backgroundcolor": "#E5ECF6",
            "gridcolor": "white",
            "gridwidth": 2,
            "linecolor": "white",
            "showbackground": true,
            "ticks": "",
            "zerolinecolor": "white"
           }
          },
          "shapedefaults": {
           "line": {
            "color": "#2a3f5f"
           }
          },
          "ternary": {
           "aaxis": {
            "gridcolor": "white",
            "linecolor": "white",
            "ticks": ""
           },
           "baxis": {
            "gridcolor": "white",
            "linecolor": "white",
            "ticks": ""
           },
           "bgcolor": "#E5ECF6",
           "caxis": {
            "gridcolor": "white",
            "linecolor": "white",
            "ticks": ""
           }
          },
          "title": {
           "x": 0.05
          },
          "xaxis": {
           "automargin": true,
           "gridcolor": "white",
           "linecolor": "white",
           "ticks": "",
           "title": {
            "standoff": 15
           },
           "zerolinecolor": "white",
           "zerolinewidth": 2
          },
          "yaxis": {
           "automargin": true,
           "gridcolor": "white",
           "linecolor": "white",
           "ticks": "",
           "title": {
            "standoff": 15
           },
           "zerolinecolor": "white",
           "zerolinewidth": 2
          }
         }
        },
        "title": {
         "text": "장소별 발생건수"
        },
        "xaxis": {
         "anchor": "y",
         "domain": [
          0,
          1
         ],
         "title": {
          "text": "sum of 발생건수"
         }
        },
        "yaxis": {
         "anchor": "x",
         "domain": [
          0,
          1
         ],
         "title": {
          "text": "장소"
         }
        }
       }
      },
      "text/html": [
       "<div>                            <div id=\"939b680c-68cb-4d7f-a855-b201a123f8ae\" class=\"plotly-graph-div\" style=\"height:525px; width:100%;\"></div>            <script type=\"text/javascript\">                require([\"plotly\"], function(Plotly) {                    window.PLOTLYENV=window.PLOTLYENV || {};                                    if (document.getElementById(\"939b680c-68cb-4d7f-a855-b201a123f8ae\")) {                    Plotly.newPlot(                        \"939b680c-68cb-4d7f-a855-b201a123f8ae\",                        [{\"alignmentgroup\":\"True\",\"bingroup\":\"y\",\"histfunc\":\"sum\",\"hovertemplate\":\"sum of \\ubc1c\\uc0dd\\uac74\\uc218=%{x}<br>\\uc7a5\\uc18c=%{y}<extra></extra>\",\"legendgroup\":\"\",\"marker\":{\"color\":\"#636efa\",\"pattern\":{\"shape\":\"\"}},\"name\":\"\",\"offsetgroup\":\"\",\"orientation\":\"h\",\"showlegend\":false,\"x\":[5671,7325,39067,5068,2320,5993,2940,874,2079,1057,679,1530,56071,5039,6408,37548,4816,1638,5004,2458,843,2173,951,640,1322,57561,4660,6266,35003,5385,1533,5098,2052,808,2197,854,636,1127,52220,4523,5092,32063,5047,1437,5077,1772,908,2359,754,518,1024,47261,7682,8150,32372,8635,2410,9356,2354,1455,3110,1152,634,1375,23263,8999,8757,32295,10092,2397,9725,2203,1524,3358,1248,685,1199,21186,9597,8200,29395,9626,1756,7199,2030,1230,2791,941,319,949,18646],\"xaxis\":\"x\",\"y\":[\"\\uc544\\ud30c\\ud2b8 \\uc5f0\\ub9bd\\ub2e4\\uc138\\ub300\",\"\\ub2e8\\ub3c5\\uc8fc\\ud0dd\",\"\\ub178\\uc0c1\",\"\\uc0c1\\uc810\",\"\\uc219\\ubc15\\uc5c5\\uc18c\\ubaa9\\uc695\\ud0d5\",\"\\uc720\\ud765\\uc811\\uac1d\\uc5c5\\uc18c\",\"\\uc0ac\\ubb34\\uc2e4\",\"\\uc5ed\\ub300\\ud569\\uc2e4\",\"\\uad50\\ud1b5\\uc218\\ub2e8\",\"\\uc720\\uc6d0\\uc9c0\",\"\\ud559\\uad50\",\"\\uae08\\uc735\\uae30\\uad00\",\"\\uae30\\ud0c0\",\"\\uc544\\ud30c\\ud2b8 \\uc5f0\\ub9bd\\ub2e4\\uc138\\ub300\",\"\\ub2e8\\ub3c5\\uc8fc\\ud0dd\",\"\\ub178\\uc0c1\",\"\\uc0c1\\uc810\",\"\\uc219\\ubc15\\uc5c5\\uc18c\\ubaa9\\uc695\\ud0d5\",\"\\uc720\\ud765\\uc811\\uac1d\\uc5c5\\uc18c\",\"\\uc0ac\\ubb34\\uc2e4\",\"\\uc5ed\\ub300\\ud569\\uc2e4\",\"\\uad50\\ud1b5\\uc218\\ub2e8\",\"\\uc720\\uc6d0\\uc9c0\",\"\\ud559\\uad50\",\"\\uae08\\uc735\\uae30\\uad00\",\"\\uae30\\ud0c0\",\"\\uc544\\ud30c\\ud2b8 \\uc5f0\\ub9bd\\ub2e4\\uc138\\ub300\",\"\\ub2e8\\ub3c5\\uc8fc\\ud0dd\",\"\\ub178\\uc0c1\",\"\\uc0c1\\uc810\",\"\\uc219\\ubc15\\uc5c5\\uc18c\\ubaa9\\uc695\\ud0d5\",\"\\uc720\\ud765\\uc811\\uac1d\\uc5c5\\uc18c\",\"\\uc0ac\\ubb34\\uc2e4\",\"\\uc5ed\\ub300\\ud569\\uc2e4\",\"\\uad50\\ud1b5\\uc218\\ub2e8\",\"\\uc720\\uc6d0\\uc9c0\",\"\\ud559\\uad50\",\"\\uae08\\uc735\\uae30\\uad00\",\"\\uae30\\ud0c0\",\"\\uc544\\ud30c\\ud2b8 \\uc5f0\\ub9bd\\ub2e4\\uc138\\ub300\",\"\\ub2e8\\ub3c5\\uc8fc\\ud0dd\",\"\\ub178\\uc0c1\",\"\\uc0c1\\uc810\",\"\\uc219\\ubc15\\uc5c5\\uc18c\\ubaa9\\uc695\\ud0d5\",\"\\uc720\\ud765\\uc811\\uac1d\\uc5c5\\uc18c\",\"\\uc0ac\\ubb34\\uc2e4\",\"\\uc5ed\\ub300\\ud569\\uc2e4\",\"\\uad50\\ud1b5\\uc218\\ub2e8\",\"\\uc720\\uc6d0\\uc9c0\",\"\\ud559\\uad50\",\"\\uae08\\uc735\\uae30\\uad00\",\"\\uae30\\ud0c0\",\"\\uc544\\ud30c\\ud2b8 \\uc5f0\\ub9bd\\ub2e4\\uc138\\ub300\",\"\\ub2e8\\ub3c5\\uc8fc\\ud0dd\",\"\\ub178\\uc0c1\",\"\\uc0c1\\uc810\",\"\\uc219\\ubc15\\uc5c5\\uc18c\\ubaa9\\uc695\\ud0d5\",\"\\uc720\\ud765\\uc811\\uac1d\\uc5c5\\uc18c\",\"\\uc0ac\\ubb34\\uc2e4\",\"\\uc5ed\\ub300\\ud569\\uc2e4\",\"\\uad50\\ud1b5\\uc218\\ub2e8\",\"\\uc720\\uc6d0\\uc9c0\",\"\\ud559\\uad50\",\"\\uae08\\uc735\\uae30\\uad00\",\"\\uae30\\ud0c0\",\"\\uc544\\ud30c\\ud2b8 \\uc5f0\\ub9bd\\ub2e4\\uc138\\ub300\",\"\\ub2e8\\ub3c5\\uc8fc\\ud0dd\",\"\\ub178\\uc0c1\",\"\\uc0c1\\uc810\",\"\\uc219\\ubc15\\uc5c5\\uc18c\\ubaa9\\uc695\\ud0d5\",\"\\uc720\\ud765\\uc811\\uac1d\\uc5c5\\uc18c\",\"\\uc0ac\\ubb34\\uc2e4\",\"\\uc5ed\\ub300\\ud569\\uc2e4\",\"\\uad50\\ud1b5\\uc218\\ub2e8\",\"\\uc720\\uc6d0\\uc9c0\",\"\\ud559\\uad50\",\"\\uae08\\uc735\\uae30\\uad00\",\"\\uae30\\ud0c0\",\"\\uc544\\ud30c\\ud2b8 \\uc5f0\\ub9bd\\ub2e4\\uc138\\ub300\",\"\\ub2e8\\ub3c5\\uc8fc\\ud0dd\",\"\\ub178\\uc0c1\",\"\\uc0c1\\uc810\",\"\\uc219\\ubc15\\uc5c5\\uc18c\\ubaa9\\uc695\\ud0d5\",\"\\uc720\\ud765\\uc811\\uac1d\\uc5c5\\uc18c\",\"\\uc0ac\\ubb34\\uc2e4\",\"\\uc5ed\\ub300\\ud569\\uc2e4\",\"\\uad50\\ud1b5\\uc218\\ub2e8\",\"\\uc720\\uc6d0\\uc9c0\",\"\\ud559\\uad50\",\"\\uae08\\uc735\\uae30\\uad00\",\"\\uae30\\ud0c0\"],\"yaxis\":\"y\",\"type\":\"histogram\"}],                        {\"template\":{\"data\":{\"histogram2dcontour\":[{\"type\":\"histogram2dcontour\",\"colorbar\":{\"outlinewidth\":0,\"ticks\":\"\"},\"colorscale\":[[0.0,\"#0d0887\"],[0.1111111111111111,\"#46039f\"],[0.2222222222222222,\"#7201a8\"],[0.3333333333333333,\"#9c179e\"],[0.4444444444444444,\"#bd3786\"],[0.5555555555555556,\"#d8576b\"],[0.6666666666666666,\"#ed7953\"],[0.7777777777777778,\"#fb9f3a\"],[0.8888888888888888,\"#fdca26\"],[1.0,\"#f0f921\"]]}],\"choropleth\":[{\"type\":\"choropleth\",\"colorbar\":{\"outlinewidth\":0,\"ticks\":\"\"}}],\"histogram2d\":[{\"type\":\"histogram2d\",\"colorbar\":{\"outlinewidth\":0,\"ticks\":\"\"},\"colorscale\":[[0.0,\"#0d0887\"],[0.1111111111111111,\"#46039f\"],[0.2222222222222222,\"#7201a8\"],[0.3333333333333333,\"#9c179e\"],[0.4444444444444444,\"#bd3786\"],[0.5555555555555556,\"#d8576b\"],[0.6666666666666666,\"#ed7953\"],[0.7777777777777778,\"#fb9f3a\"],[0.8888888888888888,\"#fdca26\"],[1.0,\"#f0f921\"]]}],\"heatmap\":[{\"type\":\"heatmap\",\"colorbar\":{\"outlinewidth\":0,\"ticks\":\"\"},\"colorscale\":[[0.0,\"#0d0887\"],[0.1111111111111111,\"#46039f\"],[0.2222222222222222,\"#7201a8\"],[0.3333333333333333,\"#9c179e\"],[0.4444444444444444,\"#bd3786\"],[0.5555555555555556,\"#d8576b\"],[0.6666666666666666,\"#ed7953\"],[0.7777777777777778,\"#fb9f3a\"],[0.8888888888888888,\"#fdca26\"],[1.0,\"#f0f921\"]]}],\"heatmapgl\":[{\"type\":\"heatmapgl\",\"colorbar\":{\"outlinewidth\":0,\"ticks\":\"\"},\"colorscale\":[[0.0,\"#0d0887\"],[0.1111111111111111,\"#46039f\"],[0.2222222222222222,\"#7201a8\"],[0.3333333333333333,\"#9c179e\"],[0.4444444444444444,\"#bd3786\"],[0.5555555555555556,\"#d8576b\"],[0.6666666666666666,\"#ed7953\"],[0.7777777777777778,\"#fb9f3a\"],[0.8888888888888888,\"#fdca26\"],[1.0,\"#f0f921\"]]}],\"contourcarpet\":[{\"type\":\"contourcarpet\",\"colorbar\":{\"outlinewidth\":0,\"ticks\":\"\"}}],\"contour\":[{\"type\":\"contour\",\"colorbar\":{\"outlinewidth\":0,\"ticks\":\"\"},\"colorscale\":[[0.0,\"#0d0887\"],[0.1111111111111111,\"#46039f\"],[0.2222222222222222,\"#7201a8\"],[0.3333333333333333,\"#9c179e\"],[0.4444444444444444,\"#bd3786\"],[0.5555555555555556,\"#d8576b\"],[0.6666666666666666,\"#ed7953\"],[0.7777777777777778,\"#fb9f3a\"],[0.8888888888888888,\"#fdca26\"],[1.0,\"#f0f921\"]]}],\"surface\":[{\"type\":\"surface\",\"colorbar\":{\"outlinewidth\":0,\"ticks\":\"\"},\"colorscale\":[[0.0,\"#0d0887\"],[0.1111111111111111,\"#46039f\"],[0.2222222222222222,\"#7201a8\"],[0.3333333333333333,\"#9c179e\"],[0.4444444444444444,\"#bd3786\"],[0.5555555555555556,\"#d8576b\"],[0.6666666666666666,\"#ed7953\"],[0.7777777777777778,\"#fb9f3a\"],[0.8888888888888888,\"#fdca26\"],[1.0,\"#f0f921\"]]}],\"mesh3d\":[{\"type\":\"mesh3d\",\"colorbar\":{\"outlinewidth\":0,\"ticks\":\"\"}}],\"scatter\":[{\"fillpattern\":{\"fillmode\":\"overlay\",\"size\":10,\"solidity\":0.2},\"type\":\"scatter\"}],\"parcoords\":[{\"type\":\"parcoords\",\"line\":{\"colorbar\":{\"outlinewidth\":0,\"ticks\":\"\"}}}],\"scatterpolargl\":[{\"type\":\"scatterpolargl\",\"marker\":{\"colorbar\":{\"outlinewidth\":0,\"ticks\":\"\"}}}],\"bar\":[{\"error_x\":{\"color\":\"#2a3f5f\"},\"error_y\":{\"color\":\"#2a3f5f\"},\"marker\":{\"line\":{\"color\":\"#E5ECF6\",\"width\":0.5},\"pattern\":{\"fillmode\":\"overlay\",\"size\":10,\"solidity\":0.2}},\"type\":\"bar\"}],\"scattergeo\":[{\"type\":\"scattergeo\",\"marker\":{\"colorbar\":{\"outlinewidth\":0,\"ticks\":\"\"}}}],\"scatterpolar\":[{\"type\":\"scatterpolar\",\"marker\":{\"colorbar\":{\"outlinewidth\":0,\"ticks\":\"\"}}}],\"histogram\":[{\"marker\":{\"pattern\":{\"fillmode\":\"overlay\",\"size\":10,\"solidity\":0.2}},\"type\":\"histogram\"}],\"scattergl\":[{\"type\":\"scattergl\",\"marker\":{\"colorbar\":{\"outlinewidth\":0,\"ticks\":\"\"}}}],\"scatter3d\":[{\"type\":\"scatter3d\",\"line\":{\"colorbar\":{\"outlinewidth\":0,\"ticks\":\"\"}},\"marker\":{\"colorbar\":{\"outlinewidth\":0,\"ticks\":\"\"}}}],\"scattermapbox\":[{\"type\":\"scattermapbox\",\"marker\":{\"colorbar\":{\"outlinewidth\":0,\"ticks\":\"\"}}}],\"scatterternary\":[{\"type\":\"scatterternary\",\"marker\":{\"colorbar\":{\"outlinewidth\":0,\"ticks\":\"\"}}}],\"scattercarpet\":[{\"type\":\"scattercarpet\",\"marker\":{\"colorbar\":{\"outlinewidth\":0,\"ticks\":\"\"}}}],\"carpet\":[{\"aaxis\":{\"endlinecolor\":\"#2a3f5f\",\"gridcolor\":\"white\",\"linecolor\":\"white\",\"minorgridcolor\":\"white\",\"startlinecolor\":\"#2a3f5f\"},\"baxis\":{\"endlinecolor\":\"#2a3f5f\",\"gridcolor\":\"white\",\"linecolor\":\"white\",\"minorgridcolor\":\"white\",\"startlinecolor\":\"#2a3f5f\"},\"type\":\"carpet\"}],\"table\":[{\"cells\":{\"fill\":{\"color\":\"#EBF0F8\"},\"line\":{\"color\":\"white\"}},\"header\":{\"fill\":{\"color\":\"#C8D4E3\"},\"line\":{\"color\":\"white\"}},\"type\":\"table\"}],\"barpolar\":[{\"marker\":{\"line\":{\"color\":\"#E5ECF6\",\"width\":0.5},\"pattern\":{\"fillmode\":\"overlay\",\"size\":10,\"solidity\":0.2}},\"type\":\"barpolar\"}],\"pie\":[{\"automargin\":true,\"type\":\"pie\"}]},\"layout\":{\"autotypenumbers\":\"strict\",\"colorway\":[\"#636efa\",\"#EF553B\",\"#00cc96\",\"#ab63fa\",\"#FFA15A\",\"#19d3f3\",\"#FF6692\",\"#B6E880\",\"#FF97FF\",\"#FECB52\"],\"font\":{\"color\":\"#2a3f5f\"},\"hovermode\":\"closest\",\"hoverlabel\":{\"align\":\"left\"},\"paper_bgcolor\":\"white\",\"plot_bgcolor\":\"#E5ECF6\",\"polar\":{\"bgcolor\":\"#E5ECF6\",\"angularaxis\":{\"gridcolor\":\"white\",\"linecolor\":\"white\",\"ticks\":\"\"},\"radialaxis\":{\"gridcolor\":\"white\",\"linecolor\":\"white\",\"ticks\":\"\"}},\"ternary\":{\"bgcolor\":\"#E5ECF6\",\"aaxis\":{\"gridcolor\":\"white\",\"linecolor\":\"white\",\"ticks\":\"\"},\"baxis\":{\"gridcolor\":\"white\",\"linecolor\":\"white\",\"ticks\":\"\"},\"caxis\":{\"gridcolor\":\"white\",\"linecolor\":\"white\",\"ticks\":\"\"}},\"coloraxis\":{\"colorbar\":{\"outlinewidth\":0,\"ticks\":\"\"}},\"colorscale\":{\"sequential\":[[0.0,\"#0d0887\"],[0.1111111111111111,\"#46039f\"],[0.2222222222222222,\"#7201a8\"],[0.3333333333333333,\"#9c179e\"],[0.4444444444444444,\"#bd3786\"],[0.5555555555555556,\"#d8576b\"],[0.6666666666666666,\"#ed7953\"],[0.7777777777777778,\"#fb9f3a\"],[0.8888888888888888,\"#fdca26\"],[1.0,\"#f0f921\"]],\"sequentialminus\":[[0.0,\"#0d0887\"],[0.1111111111111111,\"#46039f\"],[0.2222222222222222,\"#7201a8\"],[0.3333333333333333,\"#9c179e\"],[0.4444444444444444,\"#bd3786\"],[0.5555555555555556,\"#d8576b\"],[0.6666666666666666,\"#ed7953\"],[0.7777777777777778,\"#fb9f3a\"],[0.8888888888888888,\"#fdca26\"],[1.0,\"#f0f921\"]],\"diverging\":[[0,\"#8e0152\"],[0.1,\"#c51b7d\"],[0.2,\"#de77ae\"],[0.3,\"#f1b6da\"],[0.4,\"#fde0ef\"],[0.5,\"#f7f7f7\"],[0.6,\"#e6f5d0\"],[0.7,\"#b8e186\"],[0.8,\"#7fbc41\"],[0.9,\"#4d9221\"],[1,\"#276419\"]]},\"xaxis\":{\"gridcolor\":\"white\",\"linecolor\":\"white\",\"ticks\":\"\",\"title\":{\"standoff\":15},\"zerolinecolor\":\"white\",\"automargin\":true,\"zerolinewidth\":2},\"yaxis\":{\"gridcolor\":\"white\",\"linecolor\":\"white\",\"ticks\":\"\",\"title\":{\"standoff\":15},\"zerolinecolor\":\"white\",\"automargin\":true,\"zerolinewidth\":2},\"scene\":{\"xaxis\":{\"backgroundcolor\":\"#E5ECF6\",\"gridcolor\":\"white\",\"linecolor\":\"white\",\"showbackground\":true,\"ticks\":\"\",\"zerolinecolor\":\"white\",\"gridwidth\":2},\"yaxis\":{\"backgroundcolor\":\"#E5ECF6\",\"gridcolor\":\"white\",\"linecolor\":\"white\",\"showbackground\":true,\"ticks\":\"\",\"zerolinecolor\":\"white\",\"gridwidth\":2},\"zaxis\":{\"backgroundcolor\":\"#E5ECF6\",\"gridcolor\":\"white\",\"linecolor\":\"white\",\"showbackground\":true,\"ticks\":\"\",\"zerolinecolor\":\"white\",\"gridwidth\":2}},\"shapedefaults\":{\"line\":{\"color\":\"#2a3f5f\"}},\"annotationdefaults\":{\"arrowcolor\":\"#2a3f5f\",\"arrowhead\":0,\"arrowwidth\":1},\"geo\":{\"bgcolor\":\"white\",\"landcolor\":\"#E5ECF6\",\"subunitcolor\":\"white\",\"showland\":true,\"showlakes\":true,\"lakecolor\":\"white\"},\"title\":{\"x\":0.05},\"mapbox\":{\"style\":\"light\"}}},\"xaxis\":{\"anchor\":\"y\",\"domain\":[0.0,1.0],\"title\":{\"text\":\"sum of \\ubc1c\\uc0dd\\uac74\\uc218\"}},\"yaxis\":{\"anchor\":\"x\",\"domain\":[0.0,1.0],\"title\":{\"text\":\"\\uc7a5\\uc18c\"}},\"legend\":{\"tracegroupgap\":0},\"title\":{\"text\":\"\\uc7a5\\uc18c\\ubcc4 \\ubc1c\\uc0dd\\uac74\\uc218\"},\"barmode\":\"relative\"},                        {\"responsive\": true}                    ).then(function(){\n",
       "                            \n",
       "var gd = document.getElementById('939b680c-68cb-4d7f-a855-b201a123f8ae');\n",
       "var x = new MutationObserver(function (mutations, observer) {{\n",
       "        var display = window.getComputedStyle(gd).display;\n",
       "        if (!display || display === 'none') {{\n",
       "            console.log([gd, 'removed!']);\n",
       "            Plotly.purge(gd);\n",
       "            observer.disconnect();\n",
       "        }}\n",
       "}});\n",
       "\n",
       "// Listen for the removal of the full notebook cells\n",
       "var notebookContainer = gd.closest('#notebook-container');\n",
       "if (notebookContainer) {{\n",
       "    x.observe(notebookContainer, {childList: true});\n",
       "}}\n",
       "\n",
       "// Listen for the clearing of the current output cell\n",
       "var outputEl = gd.closest('.output');\n",
       "if (outputEl) {{\n",
       "    x.observe(outputEl, {childList: true});\n",
       "}}\n",
       "\n",
       "                        })                };                });            </script>        </div>"
      ]
     },
     "metadata": {},
     "output_type": "display_data"
    }
   ],
   "source": [
    "px.histogram(crime, x = \"발생건수\", y =\"장소\", histfunc='sum',title=\"장소별 발생건수\")"
   ]
  },
  {
   "cell_type": "code",
   "execution_count": 20,
   "id": "5cd2e186",
   "metadata": {},
   "outputs": [
    {
     "data": {
      "text/plain": [
       "<AxesSubplot:xlabel='연도', ylabel='발생건수'>"
      ]
     },
     "execution_count": 20,
     "metadata": {},
     "output_type": "execute_result"
    },
    {
     "data": {
      "image/png": "[encoded data removed]",
      "text/plain": [
       "<Figure size 720x576 with 1 Axes>"
      ]
     },
     "metadata": {
      "needs_background": "light"
     },
     "output_type": "display_data"
    }
   ],
   "source": [
    "plt.figure(figsize =(10,8))\n",
    "sns.lineplot(data=crime, x=\"연도\", y=\"발생건수\",hue=\"장소\")"
   ]
  },
  {
   "cell_type": "code",
   "execution_count": 22,
   "id": "311a7640",
   "metadata": {},
   "outputs": [
    {
     "data": {
      "text/plain": [
       "<AxesSubplot:xlabel='연도', ylabel='발생건수'>"
      ]
     },
     "execution_count": 22,
     "metadata": {},
     "output_type": "execute_result"
    },
    {
     "data": {
      "image/png": "[encoded data removed]",
      "text/plain": [
       "<Figure size 720x576 with 1 Axes>"
      ]
     },
     "metadata": {
      "needs_background": "light"
     },
     "output_type": "display_data"
    }
   ],
   "source": [
    "plt.figure(figsize =(10,8))\n",
    "sns.barplot(data=crime, x=\"연도\", y=\"발생건수\",hue=\"장소\")"
   ]
  },
  {
   "cell_type": "code",
   "execution_count": 23,
   "id": "8a9b4d69",
   "metadata": {},
   "outputs": [],
   "source": [
    "crime_year = crime.groupby([\"연도\",\"장소\"])[\"발생건수\"].mean().unstack()"
   ]
  },
  {
   "cell_type": "code",
   "execution_count": 24,
   "id": "5b7e7035",
   "metadata": {},
   "outputs": [
    {
     "data": {
      "text/plain": [
       "<AxesSubplot:title={'center':'년도별 장소에 따른,범죄 증감률'}, xlabel='연도'>"
      ]
     },
     "execution_count": 24,
     "metadata": {},
     "output_type": "execute_result"
    },
    {
     "data": {
      "image/png": "[encoded data removed]",
      "text/plain": [
       "<Figure size 1080x576 with 1 Axes>"
      ]
     },
     "metadata": {
      "needs_background": "light"
     },
     "output_type": "display_data"
    }
   ],
   "source": [
    "crime_year[[\"노상\",\"단독주택\",\"상점\",\"유흥접객업소\"]].plot(kind = \"bar\",figsize = (15,8),title=\"년도별 장소에 따른,범죄 증감률\")"
   ]
  },
  {
   "cell_type": "code",
   "execution_count": null,
   "id": "168e6983",
   "metadata": {},
   "outputs": [],
   "source": []
  }
 ],
 "metadata": {
  "kernelspec": {
   "display_name": "Python 3 (ipykernel)",
   "language": "python",
   "name": "python3"
  },
  "language_info": {
   "codemirror_mode": {
    "name": "ipython",
    "version": 3
   },
   "file_extension": ".py",
   "mimetype": "text/x-python",
   "name": "python",
   "nbconvert_exporter": "python",
   "pygments_lexer": "ipython3",
   "version": "3.9.12"
  }
 },
 "nbformat": 4,
 "nbformat_minor": 5
}
